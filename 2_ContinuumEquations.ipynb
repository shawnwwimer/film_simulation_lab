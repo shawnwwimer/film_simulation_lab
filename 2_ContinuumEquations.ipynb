{
 "cells": [
  {
   "cell_type": "code",
   "execution_count": null,
   "id": "fourth-oracle",
   "metadata": {},
   "outputs": [],
   "source": [
    "import numpy as np\n",
    "from matplotlib import pyplot as plt\n",
    "from scipy.ndimage import laplace # scipy has many submodules but we only need a single function for the Laplacian\n",
    "\n",
    "L = 64   # size of simulation area\n",
    "T = 16   # number of time steps\n",
    "v = 0.1  # surface tension\n",
    "l = 0.05 # non-linear KPZ term\n",
    "max_starting_height = 10 # h(x,0) is in [0, max_starting_height)\n",
    "seed_init = np.random.SeedSequence().entropy # create a constant seed for the initial interface so we can compare results\n",
    "seed_random = np.random.SeedSequence().entropy # create a constant seed for the random term so we can compare results"
   ]
  },
  {
   "cell_type": "markdown",
   "id": "welcome-grammar",
   "metadata": {},
   "source": [
    "# Noise term \n",
    "The noise term,\n",
    "\n",
    "$\\eta(\\vec{x}, t)$,\n",
    "\n",
    "has two conditions:\n",
    "* $\\langle\\eta\\rangle = 0$\n",
    "* and no correlation in space or time between points.\n",
    "\n",
    "Three easy functions work well:\n",
    "* $\\eta(\\vec{x},t) = 0$\n",
    "* A bounded choice where each point is -1 or 1\n",
    "* A Gaussian distribution\n",
    "\n",
    "We'll use the bounded choice because we can easily condition it so that the sum of the entire noise term is 0, to reflect the anticipated result for $t\\to\\inf$, but let's look at how we can create both."
   ]
  },
  {
   "cell_type": "code",
   "execution_count": null,
   "id": "noble-question",
   "metadata": {},
   "outputs": [],
   "source": [
    "'''\n",
    "    To create a bounded choice noise term we could randomly select -1 or 1 for each point,\n",
    "    but to keep the entire mean 0 (as is expected for t->infinity over all x)\n",
    "    and show some differences between the behaviors of EW and KPZ,\n",
    "    we will create an array that is half -1 and half 1, and then shuffle it.\n",
    "''' \n",
    "\n",
    "choice = -np.ones((L,L)) # all -1\n",
    "choice[L//2:,:] = 1 # change half to 1\n",
    "shuffler = np.random.default_rng(seed=seed_random) # create the shuffler\n",
    "shuffler.shuffle(choice.flat) # shuffle the array\n",
    "print(f'Mass of bounded noise: {np.sum(choice):.3f}')\n",
    "\n",
    "# can't really do the same thing for the Gaussian so we'll let the mass be nonzero\n",
    "gaussian = np.random.default_rng(seed=seed_random).normal(size=(L,L)) # Gaussian noise is easy to make in NumPy\n",
    "print(f'Mass of bounded noise: {np.sum(gaussian):.3f}')\n",
    "\n",
    "fig, ax = plt.subplots(2, figsize=(6,8))\n",
    "im = ax[0].imshow(choice)\n",
    "plt.colorbar(im, ax=ax[0])\n",
    "im = ax[1].imshow(gaussian)\n",
    "plt.colorbar(im, ax=ax[1])\n",
    "fig.tight_layout()\n",
    "for a in [0,1]:\n",
    "    ax[a].set_xticks([])\n",
    "    ax[a].set_yticks([])\n",
    "plt.show()\n"
   ]
  },
  {
   "cell_type": "markdown",
   "id": "considered-happiness",
   "metadata": {},
   "source": [
    "# Edwards-Wilkinson\n",
    "The EW equation is\n",
    "\n",
    "$\\frac{\\partial h}{\\partial t} = v\\nabla^2 h + \\eta(\\vec{x},t)$,\n",
    "\n",
    "where $v$ is the surface tension and drives relaxation of the surface.\n",
    "\n",
    "First let's see the behavior of the EW equation when $\\eta(\\vec{x},t) = 0$."
   ]
  },
  {
   "cell_type": "code",
   "execution_count": null,
   "id": "diagnostic-tuesday",
   "metadata": {},
   "outputs": [],
   "source": [
    "film = np.zeros((T,L,L)) # prepare the array for the film\n",
    "film[0,:,:] = np.random.default_rng(seed=seed_init).uniform(0, max_starting_height, size=(L,L)) # set the initial layer to random, independent heights, uniformly distributed\n",
    "\n",
    "for i in range(1,T):\n",
    "    d_film = v*laplace(film[i-1,:,:]) # dh/dt only depends on the Laplacian\n",
    "    film[i,:,:] = film[i-1,:,:] + d_film # h_t = h_t-1 + dh_t-1\n",
    "\n",
    "# plot a selection of h(t) arrays to see how the film changes\n",
    "fig, ax = plt.subplots(4,4,figsize=(14,14))\n",
    "for i in range(4):\n",
    "    for j in range(4):\n",
    "        im = ax[i][j].imshow(film[i*4+j,:,:], origin='lower')\n",
    "        plt.colorbar(im, ax=ax[i][j])\n",
    "        ax[i][j].set_xticks([])\n",
    "        ax[i][j].set_yticks([])\n",
    "plt.show()\n",
    "\n",
    "print(f'Starting volume: {np.sum(film[0,:,:]):.1f}')\n",
    "print(f'End volume: {np.sum(film[-1,:,:]):.1f}')"
   ]
  },
  {
   "cell_type": "markdown",
   "id": "alone-stations",
   "metadata": {},
   "source": [
    "The film relaxes quickly, starting grainy and noisy and transforming to have lower surface roughness. The final film is recognizable early in the process. The total mass of the interface doesn't change.\n",
    "\n",
    "How does the film evolve when noise is included?"
   ]
  },
  {
   "cell_type": "code",
   "execution_count": null,
   "id": "collectible-bearing",
   "metadata": {},
   "outputs": [],
   "source": [
    "film = np.zeros((T,L,L)) # prepare the array for the film\n",
    "film[0,:,:] = np.random.default_rng(seed=seed_init).uniform(0, max_starting_height, size=(L,L)) # set the initial layer to random, independent heights, uniformly distributed\n",
    "\n",
    "# create the bounded choice noise by shuffling an array of -1s and 1s\n",
    "shuffler = np.random.default_rng(seed=seed_random)\n",
    "noise = -np.ones((T,L,L))\n",
    "noise[:,L//2:,:] = 1\n",
    "shuffler.shuffle(noise[1:,:,:].flat)\n",
    "\n",
    "for i in range(1,T):\n",
    "    d_film = v*laplace(film[i-1,:,:]) + noise[i,:,:] # dh/dt now depends on the Laplacian and the noise\n",
    "    film[i,:,:] = film[i-1,:,:] + d_film # h_t = h_t-1 + dh_t-1\n",
    "    \n",
    "fig, ax = plt.subplots(4,4,figsize=(14,14))\n",
    "for i in range(4):\n",
    "    for j in range(4):\n",
    "        im = ax[i][j].imshow(film[i*4+j,:,:], origin='lower')\n",
    "        plt.colorbar(im, ax=ax[i][j])\n",
    "        ax[i][j].set_xticks([])\n",
    "        ax[i][j].set_yticks([])\n",
    "plt.show()\n",
    "\n",
    "print(f'Starting volume: {np.sum(film[0,:,:]):.1f}')\n",
    "print(f'End volume: {np.sum(film[-1,:,:]):.1f}')\n",
    "print(f'Noise volume: {np.sum(noise[1:,:,:]):.3f}')"
   ]
  },
  {
   "cell_type": "markdown",
   "id": "mighty-biotechnology",
   "metadata": {},
   "source": [
    "## EW results\n",
    "The film relaxes more slowly than it did without noise. The film has some similarities with the previous film, but remains grainy throughout the growth. Again, the total mass of the interface does not change during growth."
   ]
  },
  {
   "cell_type": "markdown",
   "id": "fresh-particular",
   "metadata": {},
   "source": [
    "# Kardar-Parisi-Zhang\n",
    "The KPZ equation is similar to the EW equation,\n",
    "\n",
    "$\\frac{\\partial h}{\\partial t} = v\\nabla^2 h + \\lambda\\left(\\nabla h\\right)^2 + \\eta(\\vec{x},t)$,\n",
    "\n",
    "where $v$ remains the surface tension term and $\\lambda$ is a new non-linear term. The non-linear term has a large effect and drives change in the mass of the interface.\n",
    "\n",
    "First, let's see how the film changes without noise."
   ]
  },
  {
   "cell_type": "code",
   "execution_count": null,
   "id": "clinical-prior",
   "metadata": {},
   "outputs": [],
   "source": [
    "film = np.zeros((T,L,L)) # prepare the array for the film\n",
    "film[0,:,:] = np.random.default_rng(seed=seed_init).uniform(0, max_starting_height, size=(L,L)) # set the initial layer to random, independent heights, uniformly distributed\n",
    "\n",
    "for i in range(1,T):\n",
    "    l_film = laplace(film[i-1,:,:]) # calculate the Laplacian\n",
    "    g_film = np.gradient(film[i-1,:,:]) # calculate the gradient\n",
    "    g2_film = g_film[0]**2 + g_film[1]**2 # calculate the dot product of the gradient\n",
    "    d_film = v*l_film + l/2*g2_film # dh/dt depends on the Laplacian and the dot product of the gradient\n",
    "    film[i,:,:] = film[i-1,:,:] + d_film # h_t = h_t-1 + dh_t-1\n",
    "\n",
    "fig, ax = plt.subplots(4,4,figsize=(14,14))\n",
    "for i in range(4):\n",
    "    for j in range(4):\n",
    "        im = ax[i][j].imshow(film[i*4+j,:,:], origin='lower')\n",
    "        plt.colorbar(im, ax=ax[i][j])\n",
    "        ax[i][j].set_xticks([])\n",
    "        ax[i][j].set_yticks([])\n",
    "plt.show()\n",
    "\n",
    "print(f'Starting volume: {np.sum(film[0,:,:])}')\n",
    "print(f'End volume: {np.sum(film[-1,:,:])}')"
   ]
  },
  {
   "cell_type": "markdown",
   "id": "gentle-synthetic",
   "metadata": {},
   "source": [
    "The interface changes fairly quickly, showing some similarity to the results for the EW equation. The interface mass has grown, even without a noise term or explicit growth. \n",
    "\n",
    "Notice also that there are oddly high points that emerge along the edges during growth. This is a boundary effect, exposed by the gradient. To eliminate these, we would either need to expand the simulation area until that the interior isn't affected or impose some boundary conditions to address it. We will do this when working with ballistic simulation. \n",
    "\n",
    "How does a noise term affect the film?"
   ]
  },
  {
   "cell_type": "code",
   "execution_count": null,
   "id": "removed-nothing",
   "metadata": {},
   "outputs": [],
   "source": [
    "film = np.zeros((T,L,L)) # prepare the array for the film\n",
    "film[0,:,:] = np.random.default_rng(seed=seed_init).uniform(0, max_starting_height, size=(L,L)) # set the initial layer to random, independent heights, uniformly distributed\n",
    "\n",
    "# create the bounded choice noise by shuffling an array of -1s and 1s\n",
    "shuffler = np.random.default_rng(seed=seed_random)\n",
    "noise = -np.ones((T,L,L))\n",
    "noise[:,L//2:,:] = 1\n",
    "shuffler.shuffle(noise[1:,:,:].flat)\n",
    "\n",
    "for i in range(1,T):\n",
    "    l_film = laplace(film[i-1,:,:]) # calculate the Laplacian\n",
    "    g_film = np.gradient(film[i-1,:,:]) # calculate the gradient\n",
    "    g2_film = g_film[0]**2 + g_film[1]**2 # calculate the dot product of the gradient\n",
    "    d_film = v*l_film + l/2*g2_film + noise[i,:,:] # dh/dt depends on the Laplacian, the dot product of the gradient, and the noise\n",
    "    film[i,:,:] = film[i-1,:,:] + d_film # h_t = h_t-1 + dh_t-1\n",
    "    \n",
    "\n",
    "fig, ax = plt.subplots(4,4,figsize=(14,14))\n",
    "for i in range(4):\n",
    "    for j in range(4):\n",
    "        im = ax[i][j].imshow(film[i*4+j,:,:], origin='lower')\n",
    "        plt.colorbar(im, ax=ax[i][j])\n",
    "plt.show()\n",
    "\n",
    "print(f'Starting volume: {np.sum(film[0,:,:]):.1f}')\n",
    "print(f'End volume: {np.sum(film[-1,:,:]):.1f}')\n",
    "print(f'Noise volume: {np.sum(noise[1:,:,:]):.3f}')"
   ]
  },
  {
   "cell_type": "markdown",
   "id": "moral-steam",
   "metadata": {},
   "source": [
    "## KPZ results\n",
    "The interface is less stable than in any other case. While the film appears similar throughout, individual features arise and subside. The interface is clearly more rough than any other film and the interface mass has grown significantly; even though the noise itself has made no direct change to the mass, the changes to dh/dx and the nonlinear term have driven significant change.\n",
    "\n",
    "The boundary effects may become even stronger, depending on how the noise term behaves."
   ]
  }
 ],
 "metadata": {
  "kernelspec": {
   "display_name": "Python [conda env:tfg]",
   "language": "python",
   "name": "conda-env-tfg-py"
  },
  "language_info": {
   "codemirror_mode": {
    "name": "ipython",
    "version": 3
   },
   "file_extension": ".py",
   "mimetype": "text/x-python",
   "name": "python",
   "nbconvert_exporter": "python",
   "pygments_lexer": "ipython3",
   "version": "3.12.0"
  }
 },
 "nbformat": 4,
 "nbformat_minor": 5
}
