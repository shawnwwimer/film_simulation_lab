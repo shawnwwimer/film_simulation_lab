{
 "cells": [
  {
   "cell_type": "code",
   "execution_count": null,
   "id": "f4c927be-f559-46ea-9309-74d86227a72b",
   "metadata": {},
   "outputs": [],
   "source": [
    "import numpy as np\n",
    "from matplotlib import pyplot as plt\n",
    "from matplotlib.patches import Circle, Arrow, Rectangle\n",
    "import time"
   ]
  },
  {
   "cell_type": "markdown",
   "id": "resident-repository",
   "metadata": {},
   "source": [
    "# Lennard-Jones potential\n",
    "The Lennard-Jones potential is simple to understand and easy to calculate, modeling van der Waals attraction to an acceptable degree. It has the form,\n",
    "\n",
    "$V(r) = 4\\varepsilon\\left(\\left(\\frac{\\sigma}{r}\\right)^{12} - \\left(\\frac{\\sigma}{r}\\right)^6\\right)$\n",
    "\n",
    "Let's use basic NumPy and Matplotlib functionality to calculate and plot it for two different values of $\\sigma$."
   ]
  },
  {
   "cell_type": "code",
   "execution_count": null,
   "id": "sought-operation",
   "metadata": {},
   "outputs": [],
   "source": [
    "# choose the minimum energy interatomic distances\n",
    "rmin1 = 1\n",
    "rmin2 = 0.5\n",
    "\n",
    "# calculate zero-energy distance\n",
    "s1 = 2**(1/6) * rmin1\n",
    "s2 = 2**(1/6) * rmin2\n",
    "\n",
    "r = np.linspace(0.01, 5, 200) # define a range for r\n",
    "\n",
    "# calculate the pairwise potential\n",
    "V1 = 4 * ((s1/r)**12 - (s1/r)**6)\n",
    "V2 = 4 * ((s2/r)**12 - (s2/r)**6)\n",
    "\n",
    "fig, ax = plt.subplots(dpi=100)\n",
    "ax.plot(r, V1)\n",
    "ax.plot(r, V2)\n",
    "ax.set_ylim([-2, 10])\n",
    "ax.legend([f'$r_m$ = {rmin1:.3f}', f'$r_m$ = {rmin2:.3f}'])\n",
    "ax.set_xlim([0, 5])\n",
    "ax.set_xlabel('$r$ (a.u.)', fontsize=14)\n",
    "ax.set_ylabel('$V/|\\\\varepsilon|$ (J)', fontsize=14)\n",
    "plt.show()"
   ]
  },
  {
   "cell_type": "markdown",
   "id": "7b8c0a94",
   "metadata": {},
   "source": [
    "## Timing\n",
    "The Lennard-Jones potential can be given in the form\n",
    "\n",
    "$V(r) = 4\\varepsilon(\\frac{R}{r^{12}} - \\frac{A}{r^6})$\n",
    "\n",
    "with $R=\\sigma^{12}$ and $A=\\sigma^6$. Notice that $R=A^2$. This is another attractive feature of the potential. Because exponentiation by larger numbers is a relatively time-consuming operation, calculating $A$ first and then $R$ from $A$ takes less time. Let's try timing it to see the effect."
   ]
  },
  {
   "cell_type": "code",
   "execution_count": null,
   "id": "satellite-composite",
   "metadata": {},
   "outputs": [],
   "source": [
    "number_of_calculations = 10000000 # computers are pretty fast so we'll need to run it a lot of times\n",
    "\n",
    "# two sets of randomly generated numbers to keep them the same and avoid including the generation time in the total time\n",
    "random_s = np.random.default_rng().random(size=number_of_calculations)\n",
    "random_r = np.random.default_rng().random(size=number_of_calculations)\n",
    "\n",
    "start = time.time() # get time right now\n",
    "for i in range(number_of_calculations):\n",
    "    V =  4 * ((random_s[i]/random_r[i])**12 - (random_s[i]/random_r[i])**6) # calculate R and A separately\n",
    "end1 = time.time() - start  # get duration\n",
    "\n",
    "start = time.time()  # get time right now\n",
    "for i in range(number_of_calculations):\n",
    "    R = (random_s[i]/random_r[i])**6 # calculate A\n",
    "    V =  4 * (R*R - R) # calculate R from A\n",
    "end2 = time.time() - start # get duration\n",
    "\n",
    "print(f'Calculating both A and R: {end1:.3f}')\n",
    "print(f'Calculating R from A: {end2:.3f}')"
   ]
  },
  {
   "cell_type": "markdown",
   "id": "encouraging-democrat",
   "metadata": {},
   "source": [
    "## Timing results\n",
    "The results I get show that calculating them both takes 1.426 times as long than not. The ratio won't be constant for every system or set of numbers. It may seem like an inconsequential difference but sometimes we need to perform many millions of calculations for hundreds or thousands of particles;  a 100 hour simulation would balloon to 143 hours. "
   ]
  },
  {
   "cell_type": "markdown",
   "id": "liberal-pursuit",
   "metadata": {},
   "source": [
    "# Molecular dynamics\n",
    "Let's simulate some charged spheres and have them interact by Coulombic forces. We'll ignore their masses and sizes, but give them random positions in a 2D box and a random charge in -\\[-1, 1\\]. We'll set up our random numbers ahead of time for consistent results. We'll also define a function to easily calculate the force between two particles given their index in the arrays."
   ]
  },
  {
   "cell_type": "code",
   "execution_count": null,
   "id": "classical-greek",
   "metadata": {},
   "outputs": [],
   "source": [
    "# Simulation parameters\n",
    "side_length = 8\n",
    "time_step = 0.1\n",
    "total_time = 1\n",
    "n = 2 # number of particles\n",
    "seed_position = np.random.SeedSequence().entropy\n",
    "particle_position = np.random.default_rng(seed=seed_position).random(size=(n,2))*(side_length-2)+1 # x/y positions for each particle\n",
    "seed_velocity = np.random.SeedSequence().entropy\n",
    "particle_velocity = (np.random.default_rng(seed=seed_velocity).random(size=(n,2))*2-1) # initial x/y velocities for each particle\n",
    "seed_charge = np.random.SeedSequence().entropy\n",
    "charge = np.random.default_rng(seed=seed_charge).random(size=n)*2 - 1 # make the charge random on (-1,1) to make it interesting\n",
    "print(f'Box side_length: {side_length} units\\nParticles in box: {n}\\nPosition seed: {seed_position}\\nVelocity seed: {seed_velocity}\\nCharge seed: {seed_charge}')\n",
    "\n",
    "def calc_force(id1, id2):\n",
    "    r2 = (particle_position[id1,:] - particle_position[id2,:])**2\n",
    "    f = 2*np.abs(charge[id1]*charge[id2])\n",
    "    return f"
   ]
  },
  {
   "cell_type": "markdown",
   "id": "varied-oxford",
   "metadata": {},
   "source": [
    "## Check initialization\n",
    "Let's see how they look at first. Feel free to re-run the cell above if you'd prefer different starting conditions."
   ]
  },
  {
   "cell_type": "code",
   "execution_count": null,
   "id": "6fee3e53-4b8e-4b1b-b7a1-1680c71972bf",
   "metadata": {},
   "outputs": [],
   "source": [
    "fig, ax = plt.subplots(subplot_kw={'aspect': 'equal'})\n",
    "ax.plot()\n",
    "ax.set_xlim((-.5, side_length+.5))\n",
    "ax.set_ylim((-.5, side_length+.5))\n",
    "area = Rectangle((0,0), side_length, side_length, facecolor='none', edgecolor='k', linestyle=':')\n",
    "ax.add_patch(area)\n",
    "for p in range(n):\n",
    "    color = [0,0,-charge[p]] if charge[p] < 0 else [charge[p],0,0]\n",
    "    circ = Circle(particle_position[p], radius=1, color=color)\n",
    "    ax.add_patch(circ)\n",
    "    arrow = Arrow(particle_position[p,0], particle_position[p,1], particle_velocity[p,0], particle_velocity[p,1], color='k')\n",
    "    ax.add_patch(arrow)\n",
    "ax.set_yticks([])\n",
    "ax.set_xticks([])\n",
    "plt.show()"
   ]
  },
  {
   "cell_type": "markdown",
   "id": "persistent-partner",
   "metadata": {},
   "source": [
    "## Advance by a time step\n",
    "Every time this cell is executed, the simulation will advance by one time step. It will display the particles and their velocities at that time step. If a particle bumps into a side it will be reflected from that side at the same speed it comes in with."
   ]
  },
  {
   "cell_type": "code",
   "execution_count": null,
   "id": "b18fffac-8671-4def-ae4a-225b1b921c00",
   "metadata": {},
   "outputs": [],
   "source": [
    "# after one time step\n",
    "fig, ax = plt.subplots(subplot_kw={'aspect': 'equal'})\n",
    "\n",
    "ax.plot()\n",
    "ax.set_xlim((-.5, side_length+.5))\n",
    "ax.set_ylim((-.5, side_length+.5))\n",
    "area = Rectangle((0,0), side_length, side_length, facecolor='none', edgecolor='k', linestyle=':')\n",
    "ax.add_patch(area)\n",
    "# Update positions\n",
    "for p in range(n):\n",
    "    particle_position[p,:] += particle_velocity[p,:] * time_step\n",
    "    if particle_position[p,0] < 0+1:\n",
    "        particle_position[p,0] = 0+1\n",
    "        particle_velocity[p,0] *= -1\n",
    "    if particle_position[p,1] < 0+1:\n",
    "        particle_position[p,1] = 0+1\n",
    "        particle_velocity[p,1] *= -1\n",
    "    if particle_position[p,0] > side_length-1:\n",
    "        particle_position[p,0] = side_length-1\n",
    "        particle_velocity[p,0] *= -1\n",
    "    if particle_position[p,1] > side_length-1:\n",
    "        particle_position[p,1] = side_length-1\n",
    "        particle_velocity[p,1] *= -1\n",
    "    particle_position[p,:] = particle_position[p,:] % side_length\n",
    "# Update velocity\n",
    "for p1 in range(n):\n",
    "    # calculate forces\n",
    "    f = 0\n",
    "    for p2 in range(n):\n",
    "        if p1 != p2:\n",
    "            f = calc_force(p1, p2)\n",
    "            if (charge[p1] < 0 and charge[p2] < 0) or (charge[p1] > 0 and charge[p2] > 0):\n",
    "                particle_velocity[p1,:] -= f * (particle_position[p2,:] - particle_position[p1,:]) / np.sqrt(np.sum((particle_position[p2,:] - particle_position[p1,:])**2)) * time_step\n",
    "            else:\n",
    "                particle_velocity[p1,:] += f * (particle_position[p2,:] - particle_position[p1,:]) / np.sqrt(np.sum((particle_position[p2,:] - particle_position[p1,:])**2)) * time_step\n",
    "    \n",
    "for p in range(n):\n",
    "    color = [0,0,-charge[p]] if charge[p] < 0 else [charge[p],0,0]\n",
    "    circ = Circle(particle_position[p], radius=1, color=color)\n",
    "    ax.add_patch(circ)\n",
    "    arrow = Arrow(particle_position[p,0], particle_position[p,1], particle_velocity[p,0], particle_velocity[p,1], color='k')\n",
    "    ax.add_patch(arrow)\n",
    "ax.set_yticks([])\n",
    "ax.set_xticks([])\n",
    "plt.show()"
   ]
  },
  {
   "cell_type": "markdown",
   "id": "constant-telephone",
   "metadata": {},
   "source": [
    "## Issues\n",
    "Our timestep is relatively large but it still takes a good amount of time for anything interesting to occur. It also causes us to skip over a lot of intermediate velocities between timestamps, only taking snapshots during movement.\n",
    "\n",
    "This simulation is simple and the particles accelerate so quickly past each other that they tend to oscillate. Try to prevent oppositely charged particles from flying past each other. Hint: <code>calc_force</code> implements a totally attractive or repulsive force."
   ]
  }
 ],
 "metadata": {
  "kernelspec": {
   "display_name": "Python 3 (ipykernel)",
   "language": "python",
   "name": "python3"
  },
  "language_info": {
   "codemirror_mode": {
    "name": "ipython",
    "version": 3
   },
   "file_extension": ".py",
   "mimetype": "text/x-python",
   "name": "python",
   "nbconvert_exporter": "python",
   "pygments_lexer": "ipython3",
   "version": "3.10.12"
  }
 },
 "nbformat": 4,
 "nbformat_minor": 5
}
